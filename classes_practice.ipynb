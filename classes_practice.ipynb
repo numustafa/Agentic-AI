{
  "nbformat": 4,
  "nbformat_minor": 0,
  "metadata": {
    "colab": {
      "provenance": [],
      "authorship_tag": "ABX9TyOT1I8LCqHXPnKlEsCM/56N",
      "include_colab_link": true
    },
    "kernelspec": {
      "name": "python3",
      "display_name": "Python 3"
    },
    "language_info": {
      "name": "python"
    }
  },
  "cells": [
    {
      "cell_type": "markdown",
      "metadata": {
        "id": "view-in-github",
        "colab_type": "text"
      },
      "source": [
        "<a href=\"https://colab.research.google.com/github/numustafa/Agentic-AI/blob/main/classes_practice.ipynb\" target=\"_parent\"><img src=\"https://colab.research.google.com/assets/colab-badge.svg\" alt=\"Open In Colab\"/></a>"
      ]
    },
    {
      "cell_type": "markdown",
      "source": [
        "# Classes\n",
        "Simple OOPs concepts with Everyday Examples."
      ],
      "metadata": {
        "id": "asZurB9j4RgB"
      }
    },
    {
      "cell_type": "code",
      "source": [
        "\n",
        "from contextlib import contextmanager"
      ],
      "metadata": {
        "id": "jwGfz_Lu4aaz"
      },
      "execution_count": 64,
      "outputs": []
    },
    {
      "cell_type": "markdown",
      "source": [
        "## 1.1 Basic Class\n",
        "Car Blueprint"
      ],
      "metadata": {
        "id": "gXnni80Y4UzW"
      }
    },
    {
      "cell_type": "code",
      "execution_count": 65,
      "metadata": {
        "id": "PheTcbLo3rA3"
      },
      "outputs": [],
      "source": [
        "class Car:\n",
        "  '''\n",
        "  A car blueprint - defines what every car should have.\n",
        "  '''\n",
        "  # initialization vars (magic/ dunder methods)\n",
        "  def __init__(self, brand: str, color: str, seats: int):\n",
        "    self.brand = brand\n",
        "    self.color = color\n",
        "    self.seats = 0\n",
        "    self.engine_on = False\n",
        "    self.speed = 0\n",
        "\n",
        "  def __repr__(self):\n",
        "    return f\"Car(brand = '{self.brand}, color = '{self.color}')\"\n",
        "\n",
        "  # methods (Custom methods)\n",
        "  def start_engine(self):\n",
        "    '''Check and return if the engine is on or off'''\n",
        "    self.engine_on = True\n",
        "    print(f\"🚗 {self.color} {self.brand} engine started!\")\n",
        "\n",
        "  def accelerate(self, increment = 10):\n",
        "    '''\n",
        "    check and inform the acceleration of a car\n",
        "    '''\n",
        "    if self.engine_on:\n",
        "      self.speed += increment\n",
        "      print(f\"🏎️  Speed is now {self.speed} mph\")\n",
        "    else:\n",
        "      print(f\"❌ Start the engine first!\")\n",
        "\n",
        "  def car_type(self):\n",
        "    if self.seats > 2:\n",
        "      print(f\"This {self.brand} is a Sedan\")\n",
        "    else:\n",
        "      print(f\"This {self.brand} is a Coupe\")"
      ]
    },
    {
      "cell_type": "code",
      "source": [
        "# create actual cars from blueprint\n",
        "toyota = Car(\"Toyota\", \"Red\", 4)\n",
        "honda = Car(\"Honda\", \"Blue\", 2)\n",
        "\n",
        "toyota.start_engine()"
      ],
      "metadata": {
        "colab": {
          "base_uri": "https://localhost:8080/"
        },
        "id": "VeXzZf-ODo9A",
        "outputId": "d238299b-2423-4575-a9ba-e8aaa0807f95"
      },
      "execution_count": 66,
      "outputs": [
        {
          "output_type": "stream",
          "name": "stdout",
          "text": [
            "🚗 Red Toyota engine started!\n"
          ]
        }
      ]
    },
    {
      "cell_type": "code",
      "source": [
        "toyota.accelerate()"
      ],
      "metadata": {
        "colab": {
          "base_uri": "https://localhost:8080/"
        },
        "id": "ZqIoFUqeEjIO",
        "outputId": "65914be0-4054-43d8-fd45-348947d3fed7"
      },
      "execution_count": 67,
      "outputs": [
        {
          "output_type": "stream",
          "name": "stdout",
          "text": [
            "🏎️  Speed is now 10 mph\n"
          ]
        }
      ]
    },
    {
      "cell_type": "code",
      "source": [
        "honda.car_type()"
      ],
      "metadata": {
        "colab": {
          "base_uri": "https://localhost:8080/"
        },
        "id": "uHYS2WryEpYd",
        "outputId": "6412d7b0-9588-4bbd-aff3-0ec983ba5e57"
      },
      "execution_count": 68,
      "outputs": [
        {
          "output_type": "stream",
          "name": "stdout",
          "text": [
            "This Honda is a Coupe\n"
          ]
        }
      ]
    },
    {
      "cell_type": "code",
      "source": [
        "honda.accelerate()"
      ],
      "metadata": {
        "colab": {
          "base_uri": "https://localhost:8080/"
        },
        "id": "Qjzv3JejEypv",
        "outputId": "60930efe-a615-4b83-f465-65852291d207"
      },
      "execution_count": 69,
      "outputs": [
        {
          "output_type": "stream",
          "name": "stdout",
          "text": [
            "❌ Start the engine first!\n"
          ]
        }
      ]
    },
    {
      "cell_type": "code",
      "source": [
        "honda.start_engine()"
      ],
      "metadata": {
        "colab": {
          "base_uri": "https://localhost:8080/"
        },
        "id": "5Jb7Nf7eF60p",
        "outputId": "740491db-e8c5-4f58-98b5-b91ab458cfd9"
      },
      "execution_count": 70,
      "outputs": [
        {
          "output_type": "stream",
          "name": "stdout",
          "text": [
            "🚗 Blue Honda engine started!\n"
          ]
        }
      ]
    },
    {
      "cell_type": "code",
      "source": [
        "honda.accelerate()"
      ],
      "metadata": {
        "colab": {
          "base_uri": "https://localhost:8080/"
        },
        "id": "8v2CMZseGQJa",
        "outputId": "d70e45ac-da96-4172-fcb9-465e652b5022"
      },
      "execution_count": 71,
      "outputs": [
        {
          "output_type": "stream",
          "name": "stdout",
          "text": [
            "🏎️  Speed is now 10 mph\n"
          ]
        }
      ]
    },
    {
      "cell_type": "markdown",
      "source": [
        "## 1.2 Inheritance Class\n",
        "Child gets Parents features"
      ],
      "metadata": {
        "id": "P70HSVBDGcWz"
      }
    },
    {
      "cell_type": "code",
      "source": [
        "class ElectricCar(Car):\n",
        "  '''\n",
        "  Electric Car inherits all Car features + adds new ones\n",
        "  '''\n",
        "\n",
        "  def __init__(self, brand: str, color: str, seats: int, battery_size: float):\n",
        "    super().__init__(brand, color, seats)     # get parent features\n",
        "    self.battery_size = battery_size\n",
        "    self.charge_level = 100\n",
        "\n",
        "  def start_engine(self):\n",
        "    '''Override parents Custom method'''\n",
        "    self.engine_on = True\n",
        "    print(f\"🔋 {self.color} {self.brand} electric motor started silently!\")\n",
        "\n",
        "  def charge(self):\n",
        "    '''New custom method only for electric cars'''\n",
        "    self.charge_level = 100\n",
        "    print(f\"⚡ {self.brand} fully charged!\")\n",
        ""
      ],
      "metadata": {
        "id": "spDHmvnHGSky"
      },
      "execution_count": 72,
      "outputs": []
    },
    {
      "cell_type": "code",
      "source": [
        "tesla = ElectricCar(\"Tesla\", \"White\", 4, 58.7)\n",
        "tesla.start_engine()  # Uses overridden method\n",
        "tesla.accelerate()    # Uses inherited method\n",
        "tesla.charge()        # Uses new method"
      ],
      "metadata": {
        "colab": {
          "base_uri": "https://localhost:8080/"
        },
        "id": "GMThvquvJIE4",
        "outputId": "959feb66-2a75-4693-9a10-34df419a8d84"
      },
      "execution_count": 73,
      "outputs": [
        {
          "output_type": "stream",
          "name": "stdout",
          "text": [
            "🔋 White Tesla electric motor started silently!\n",
            "🏎️  Speed is now 10 mph\n",
            "⚡ Tesla fully charged!\n"
          ]
        }
      ]
    },
    {
      "cell_type": "markdown",
      "source": [
        "## 1.3 Abstract Classes\n",
        "Rules Everyone must follows - Abstract class provides a blueprint for other classes. They **cannot be instantiated dirictly**.\n",
        "\n",
        "It can define abstract methods, which muct be implemented by anyother subclass.\n",
        "\n",
        "### 🧠 Why Use Abstract Classes?\n",
        "* To enforce a structure in subclasses.\n",
        "* To define a common interface for a group of related classes.\n",
        "* To prevent incomplete implementations."
      ],
      "metadata": {
        "id": "t5Fkn9w-Jpwv"
      }
    },
    {
      "cell_type": "code",
      "source": [
        "from abc import ABC, abstractmethod\n",
        "\n",
        "# Animal Rules\n",
        "class Animal(ABC):\n",
        "  '''Abstract class - Rules that each animal must follow'''\n",
        "  def __init__(self, name:str):\n",
        "    self.name = name\n",
        "    self.legs = 4\n",
        "\n",
        "  def __repr__(self) -> str:\n",
        "    return f\"The {self.name} is an animal with {self.legs}\"\n",
        "\n",
        "  @abstractmethod\n",
        "  def make_sound(self):\n",
        "    '''Every animal MUST make sound'''\n",
        "    pass\n",
        "\n",
        "  @abstractmethod\n",
        "  def move(self):\n",
        "    '''every animal must move somehow'''\n",
        "    pass\n",
        "\n",
        "  def sleep(self):\n",
        "    '''All animal has this functionality'''\n",
        "    return f\"😴 {self.name} is sleeping...\"\n",
        ""
      ],
      "metadata": {
        "id": "HCzq8dPeJX6Q"
      },
      "execution_count": 74,
      "outputs": []
    },
    {
      "cell_type": "code",
      "source": [
        "class Dog(Animal):\n",
        "  '''Dog MUST implement the required methods'''\n",
        "  def make_sound(self):\n",
        "    return f\"🐕 {self.name} says: Woof!\"\n",
        "\n",
        "  def move(self):\n",
        "    return f\"🏃 {self.name} runs on {self.legs} legs\"\n",
        "\n",
        "# Cannot create Animal directly (it's abstract)\n",
        "# animal = Animal(\"generic\")  # This would error!\n",
        "\n",
        "# But can create specific animals\n",
        "buddy = Dog(\"Buddy\")\n",
        "\n",
        "\n",
        "buddy.make_sound()  # Required method"
      ],
      "metadata": {
        "colab": {
          "base_uri": "https://localhost:8080/",
          "height": 35
        },
        "id": "V9PIcnm1bG1g",
        "outputId": "1de8ef50-52ff-4ae8-a0af-2590bc087e4f"
      },
      "execution_count": 75,
      "outputs": [
        {
          "output_type": "execute_result",
          "data": {
            "text/plain": [
              "'🐕 Buddy says: Woof!'"
            ],
            "application/vnd.google.colaboratory.intrinsic+json": {
              "type": "string"
            }
          },
          "metadata": {},
          "execution_count": 75
        }
      ]
    },
    {
      "cell_type": "code",
      "source": [
        "\n",
        "buddy.move()        # Required method"
      ],
      "metadata": {
        "colab": {
          "base_uri": "https://localhost:8080/",
          "height": 35
        },
        "id": "pYK0WUd8bLS1",
        "outputId": "f5a84ca6-b14c-47d6-9031-41fce481ffcf"
      },
      "execution_count": 76,
      "outputs": [
        {
          "output_type": "execute_result",
          "data": {
            "text/plain": [
              "'🏃 Buddy runs on 4 legs'"
            ],
            "application/vnd.google.colaboratory.intrinsic+json": {
              "type": "string"
            }
          },
          "metadata": {},
          "execution_count": 76
        }
      ]
    },
    {
      "cell_type": "code",
      "source": [
        "buddy.sleep()       # Inherited method\n"
      ],
      "metadata": {
        "colab": {
          "base_uri": "https://localhost:8080/",
          "height": 35
        },
        "id": "nN4sWziMbYcT",
        "outputId": "ed992e83-84d3-482a-d775-70d47ce83795"
      },
      "execution_count": 77,
      "outputs": [
        {
          "output_type": "execute_result",
          "data": {
            "text/plain": [
              "'😴 Buddy is sleeping...'"
            ],
            "application/vnd.google.colaboratory.intrinsic+json": {
              "type": "string"
            }
          },
          "metadata": {},
          "execution_count": 77
        }
      ]
    },
    {
      "cell_type": "code",
      "source": [
        "class Fish(Animal):\n",
        "  '''Fish MUST also implement the required methods'''\n",
        "  def make_sound(self):\n",
        "    return f\"🐠 {self.name} makes bubbles: blub blub\"\n",
        "\n",
        "  def move(self):\n",
        "    self.legs = 2\n",
        "    return f\"🏊 {self.name} swims with {self.legs} fins\"\n",
        "\n",
        "nemo = Fish(\"Nemo\")\n",
        "nemo.make_sound()\n"
      ],
      "metadata": {
        "colab": {
          "base_uri": "https://localhost:8080/",
          "height": 35
        },
        "id": "XTxSl9NQbe8t",
        "outputId": "3a66ceaa-e86a-4e80-f086-55e6016cad16"
      },
      "execution_count": 78,
      "outputs": [
        {
          "output_type": "execute_result",
          "data": {
            "text/plain": [
              "'🐠 Nemo makes bubbles: blub blub'"
            ],
            "application/vnd.google.colaboratory.intrinsic+json": {
              "type": "string"
            }
          },
          "metadata": {},
          "execution_count": 78
        }
      ]
    },
    {
      "cell_type": "code",
      "source": [
        "nemo.move()"
      ],
      "metadata": {
        "colab": {
          "base_uri": "https://localhost:8080/",
          "height": 35
        },
        "id": "n-uftt8-bhSm",
        "outputId": "b78b1f72-0638-44a3-a4dc-dfe698db6f11"
      },
      "execution_count": 79,
      "outputs": [
        {
          "output_type": "execute_result",
          "data": {
            "text/plain": [
              "'🏊 Nemo swims with 2 fins'"
            ],
            "application/vnd.google.colaboratory.intrinsic+json": {
              "type": "string"
            }
          },
          "metadata": {},
          "execution_count": 79
        }
      ]
    },
    {
      "cell_type": "code",
      "source": [
        "nemo.sleep()"
      ],
      "metadata": {
        "colab": {
          "base_uri": "https://localhost:8080/",
          "height": 35
        },
        "id": "uA4F-k9zcr8G",
        "outputId": "4a16c53d-9dda-4d69-8ba7-55db8670d7ea"
      },
      "execution_count": 80,
      "outputs": [
        {
          "output_type": "execute_result",
          "data": {
            "text/plain": [
              "'😴 Nemo is sleeping...'"
            ],
            "application/vnd.google.colaboratory.intrinsic+json": {
              "type": "string"
            }
          },
          "metadata": {},
          "execution_count": 80
        }
      ]
    },
    {
      "cell_type": "markdown",
      "source": [
        "## 1.4 Multiple inheritance - Combining Power\n",
        "\n",
        "child node inherit from more than 1 (>1) parents. This allows child to access attributes and methods of multiple base classes.\n",
        "\n",
        "### 🧠 Why Use It?\n",
        "* To combine behaviors from different classes.\n",
        "* To reuse code from multiple sources.\n",
        "\n",
        "\n",
        "SwissArmyKnife.__init__()\n",
        "→ Flashlight.__init__(*args, **kwargs)\n",
        "→ Knife.__init__(*args, **kwargs)\n",
        "→ Tool.__init__(name)\n"
      ],
      "metadata": {
        "id": "Z1g7NkHfc-Sw"
      }
    },
    {
      "cell_type": "code",
      "source": [
        "# Swiss Army knife (flashlight + knife + tool)\n",
        "\n",
        "class Tool():\n",
        "  \"\"\"basic Tool\"\"\"\n",
        "  def __init__(self, name: str):\n",
        "    self.name = name\n",
        "\n",
        "  def __repr__(self) -> str:\n",
        "    return f\"🛠️  Created tool: {self.name}\"\n",
        "\n",
        "class Knife():\n",
        "  \"\"\"Adds Cutting capability\"\"\"\n",
        "  def __init__(self, *args, **kwargs):\n",
        "    super().__init__(*args, **kwargs)\n",
        "    self.blade_out = False\n",
        "\n",
        "  def extend_blade(self):\n",
        "    self.blade_out = True\n",
        "    return f\"🔪 Blade extended!\"\n",
        "\n",
        "class Flashlight():\n",
        "  \"\"\"Adds Flashlight capacity\"\"\"\n",
        "  def __init__(self, *args, **kwargs):\n",
        "    super().__init__(*args, **kwargs)\n",
        "    self.light_on = False\n",
        "\n",
        "  def flashlight_on(self):\n",
        "    self.light_on = True\n",
        "    return f\"🔦 Flashlight turned on!\"\n",
        "\n",
        "class SwissArmyKnife(Flashlight, Knife, Tool):\n",
        "  \"\"\"Combines all parents capabilities\"\"\"\n",
        "  def __init__(self):\n",
        "    super().__init__(\"Swiss Army Knife\")\n",
        "    print(f\"🇨🇭 Swiss Army Knife ready!\")"
      ],
      "metadata": {
        "id": "spPlr65RcuDm"
      },
      "execution_count": 81,
      "outputs": []
    },
    {
      "cell_type": "code",
      "source": [
        "# one tool, multiple capabilities\n",
        "multi_tool = SwissArmyKnife()\n",
        "multi_tool.flashlight_on()"
      ],
      "metadata": {
        "colab": {
          "base_uri": "https://localhost:8080/",
          "height": 52
        },
        "id": "CeHLASifIwwz",
        "outputId": "3deafe56-59e8-4165-cb9c-f68af2fc1a83"
      },
      "execution_count": 82,
      "outputs": [
        {
          "output_type": "stream",
          "name": "stdout",
          "text": [
            "🇨🇭 Swiss Army Knife ready!\n"
          ]
        },
        {
          "output_type": "execute_result",
          "data": {
            "text/plain": [
              "'🔦 Flashlight turned on!'"
            ],
            "application/vnd.google.colaboratory.intrinsic+json": {
              "type": "string"
            }
          },
          "metadata": {},
          "execution_count": 82
        }
      ]
    },
    {
      "cell_type": "code",
      "source": [
        "multi_tool.extend_blade()"
      ],
      "metadata": {
        "colab": {
          "base_uri": "https://localhost:8080/",
          "height": 35
        },
        "id": "R0XfRJFRIwYJ",
        "outputId": "2a4eda41-7020-49e0-efb0-865c73d939ae"
      },
      "execution_count": 83,
      "outputs": [
        {
          "output_type": "execute_result",
          "data": {
            "text/plain": [
              "'🔪 Blade extended!'"
            ],
            "application/vnd.google.colaboratory.intrinsic+json": {
              "type": "string"
            }
          },
          "metadata": {},
          "execution_count": 83
        }
      ]
    },
    {
      "cell_type": "code",
      "source": [
        "print(f\"Tool name: {multi_tool.name}\")"
      ],
      "metadata": {
        "colab": {
          "base_uri": "https://localhost:8080/"
        },
        "id": "s9LQqurfJMQj",
        "outputId": "4c11055a-5d57-4e9a-fdbb-a6a38cc715dd"
      },
      "execution_count": 84,
      "outputs": [
        {
          "output_type": "stream",
          "name": "stdout",
          "text": [
            "Tool name: Swiss Army Knife\n"
          ]
        }
      ]
    },
    {
      "cell_type": "markdown",
      "source": [
        "## 1.5 Class methods & Static methods\n",
        "### @classmethod\n",
        "* takes *cls* as its first parameter\n",
        "* when need to access class data\n",
        "\n",
        "### @staticmethod\n",
        "* Utility/ helper methods\n",
        "\n",
        "### Instance Method\n",
        "otherwise stater (like above) everyt other general method is an instance method, which:\n",
        "* takes *self* as a first parameter\n",
        "* access and modify instance attributes (self.name, self.speed, etc)\n",
        "* its called on an instance of a class."
      ],
      "metadata": {
        "id": "0fMadz7vJnMH"
      }
    },
    {
      "cell_type": "code",
      "source": [
        "class Pizza():\n",
        "  \"\"\"Pizza class with different type of Methods\"\"\"\n",
        "\n",
        "  total_pizzas_made = 0       # Class Variable\n",
        "\n",
        "  def __init__(self, size: str, toppings: list, pizza_made = 1):\n",
        "    self.size = size\n",
        "    self.toppings = toppings\n",
        "    Pizza.total_pizza_made += pizza_made\n",
        "    print(f\"🍕 Made {size} pizza with {', '.join(toppings)}\")\n",
        "\n",
        "  def eat_slice(self):\n",
        "    \"\"\"instance Method: Needs specific Pizza\"\"\"\n",
        "    print(f\"😋 Eating a slice of {self.size} pizza!\")\n",
        "\n",
        "  @classmethod\n",
        "  def make_margherita(cls):\n",
        "    \"\"\"Class method: creates a specific type of Pizza\"\"\"\n",
        "    return cls(\"medium\", [\"tomato\", \"mozzarella\", \"basil\"])\n",
        "\n",
        "  @classmethod\n",
        "  def get_total_made(cls):\n",
        "    \"Class Method: Return Class info\"\n",
        "    return cls.total_pizzas_made\n",
        "\n",
        "  @staticmethod\n",
        "  def is_topping_valid(topping: str) -> bool:\n",
        "    \"\"\"Static method: utility function\"\"\"\n",
        "    valid_toppings = [\"tomato\", \"cheese\", \"pepperoni\", \"mushroom\", \"basil\", \"mozzarella\"]\n",
        "    return topping.lower() in valid_toppings\n",
        "\n",
        "  @staticmethod\n",
        "  def calc_price(size: str, num_toppings: int) -> float:\n",
        "    \"\"\"Static method - utility calculation.\"\"\"\n",
        "    base_prices = {\"small\": 8.0, \"medium\": 12.0, \"large\": 16.0}\n",
        "    base = base_prices.get(size, 12.0)\n",
        "    return base + (num_toppings*2.0)\n",
        "\n",
        "\n",
        "\n"
      ],
      "metadata": {
        "id": "BwCxtIOAJYy0"
      },
      "execution_count": 85,
      "outputs": []
    },
    {
      "cell_type": "code",
      "source": [
        "# Test different method types\n",
        "print(\"\\n🧪 Testing Pizza Methods:\")"
      ],
      "metadata": {
        "colab": {
          "base_uri": "https://localhost:8080/"
        },
        "id": "-q7jHuIqQtpa",
        "outputId": "53343971-0d44-4386-be97-3dd98d5fae36"
      },
      "execution_count": 86,
      "outputs": [
        {
          "output_type": "stream",
          "name": "stdout",
          "text": [
            "\n",
            "🧪 Testing Pizza Methods:\n"
          ]
        }
      ]
    },
    {
      "cell_type": "code",
      "source": [
        "# Static methods - no instance needed\n",
        "print(f\"✅ Is pepperoni valid? {Pizza.is_topping_valid('pepperoni')}\")\n",
        "print(f\"✅ Large pizza price: ${Pizza.calc_price('large', 3)}\")"
      ],
      "metadata": {
        "colab": {
          "base_uri": "https://localhost:8080/"
        },
        "id": "0rK2yI8zQwEJ",
        "outputId": "c32de213-7096-4321-84a2-126dbb27aafe"
      },
      "execution_count": 87,
      "outputs": [
        {
          "output_type": "stream",
          "name": "stdout",
          "text": [
            "✅ Is pepperoni valid? True\n",
            "✅ Large pizza price: $22.0\n"
          ]
        }
      ]
    },
    {
      "cell_type": "markdown",
      "source": [
        "## 1.6 properties (Smart Attributes)\n",
        "helps write cleaner and safer code. It allows:\n",
        "* access to methods like attributes (without ())\n",
        "* add logic to attribute access (e.g validation, formatting)\n",
        "* Encapsulate internal data while keep a clean interface\n",
        "\n"
      ],
      "metadata": {
        "id": "c0RYEKaXa0CU"
      }
    },
    {
      "cell_type": "code",
      "source": [
        "class SmartTV():\n",
        "  \"\"\"TV with smart controls\"\"\"\n",
        "  def __init__(self, brand:str):\n",
        "    self.brand = brand\n",
        "    self._vol = 50          # private attribute (for internal use only)\n",
        "    self._ch = 1           # private attribute\n",
        "    self._pwr = False           # private attribute\n",
        "\n",
        "  @property\n",
        "  def vol(self) -> int:\n",
        "    return self._vol\n",
        "\n",
        "  @vol.setter\n",
        "  def vol(self, level:int):\n",
        "    \"\"\"Set vol with validation\"\"\"\n",
        "    if level < 0:\n",
        "      self._vol = 0\n",
        "      print(f\"❌ Volume can't be negative!\")\n",
        "    elif level > 100:\n",
        "      self._vol = 100\n",
        "      print(f\"❌ Volume can't be more than {self._vol}!\")\n",
        "    else:\n",
        "      self._vol = level\n",
        "      print(f\"🔊 Volume set to {self._vol}\")\n",
        "\n",
        "  @property\n",
        "  def status(self) -> str:\n",
        "    \"\"\"Computer Property - calculated each time\"\"\"\n",
        "    power_status = \"ON\" if self._pwr else \"OFF\"\n",
        "    if self._pwr:\n",
        "      return f\"📺 {self.brand} TV: {power_status} | Channel {self._ch} | Volume {self._vol}\"\n",
        "    else:\n",
        "      return f\"📺 {self.brand} TV: {power_status}\"\n",
        "\n",
        "  def turn_on(self):\n",
        "    self._pwr = True\n",
        "    print(\"🔌 TV turned ON\")\n",
        "\n",
        "  def turn_off(self):\n",
        "    self._pwr = False\n",
        "    print(\"🔌 TV turned OFF\")\n",
        "\n",
        "\n",
        "\n",
        "\n",
        "\n"
      ],
      "metadata": {
        "id": "FitK98X7Q0_C"
      },
      "execution_count": 88,
      "outputs": []
    },
    {
      "cell_type": "code",
      "source": [
        "# Test properties\n",
        "tv = SmartTV(\"Samsung\")\n",
        "tv.turn_on()"
      ],
      "metadata": {
        "colab": {
          "base_uri": "https://localhost:8080/"
        },
        "id": "S_naa3k-gAf5",
        "outputId": "298f9c0a-7be9-495f-939d-6ac044d6b904"
      },
      "execution_count": 91,
      "outputs": [
        {
          "output_type": "stream",
          "name": "stdout",
          "text": [
            "🔌 TV turned ON\n"
          ]
        }
      ]
    },
    {
      "cell_type": "code",
      "source": [
        "tv.vol = 30\n"
      ],
      "metadata": {
        "colab": {
          "base_uri": "https://localhost:8080/"
        },
        "id": "VXd3fHjygD-J",
        "outputId": "754b17de-1295-47d0-b0f9-d2338c9823ec"
      },
      "execution_count": 92,
      "outputs": [
        {
          "output_type": "stream",
          "name": "stdout",
          "text": [
            "🔊 Volume set to 30\n"
          ]
        }
      ]
    },
    {
      "cell_type": "code",
      "source": [
        "print(f\"Current status: {tv.status}\")  # Computed property"
      ],
      "metadata": {
        "colab": {
          "base_uri": "https://localhost:8080/"
        },
        "id": "_db-LgsCgPQD",
        "outputId": "aaac8ddc-74b9-4946-9540-21df16dbe71b"
      },
      "execution_count": 93,
      "outputs": [
        {
          "output_type": "stream",
          "name": "stdout",
          "text": [
            "Current status: 📺 Samsung TV: ON | Channel 1 | Volume 30\n"
          ]
        }
      ]
    },
    {
      "cell_type": "code",
      "source": [
        "print(f\"Volume now: {tv.vol}\")     # Uses getter"
      ],
      "metadata": {
        "colab": {
          "base_uri": "https://localhost:8080/"
        },
        "id": "x6BBVIwAgwz3",
        "outputId": "cef07482-6738-4775-ee23-b6418892835e"
      },
      "execution_count": 95,
      "outputs": [
        {
          "output_type": "stream",
          "name": "stdout",
          "text": [
            "Volume now: 30\n"
          ]
        }
      ]
    },
    {
      "cell_type": "code",
      "source": [
        "print(f\"Status: {tv.status}\")         # Updated computed property"
      ],
      "metadata": {
        "colab": {
          "base_uri": "https://localhost:8080/"
        },
        "id": "u5jbSbU-g0jX",
        "outputId": "f17cd98f-5fba-4e2f-f31b-a0272f2966a8"
      },
      "execution_count": 96,
      "outputs": [
        {
          "output_type": "stream",
          "name": "stdout",
          "text": [
            "Status: 📺 Samsung TV: ON | Channel 1 | Volume 30\n"
          ]
        }
      ]
    },
    {
      "cell_type": "markdown",
      "source": [
        "## 1.7 Context managers\n",
        "* Cleaner code (no need to manually close or release resources).\n",
        "* Automatic cleanup (e.g., closing files, releasing locks, disconnecting from databases).\n",
        "* Error-safe (cleanup happens even if an exception is raised).\n",
        "\n",
        "Must defines 2 special dunder methode **(_ _enter__)** & **(_ _exit__)**\n"
      ],
      "metadata": {
        "id": "4ck8oW0ng7xZ"
      }
    },
    {
      "cell_type": "code",
      "source": [
        "class Smartdoor():\n",
        "  \"\"\"Door that locks and unlocks automatically\"\"\"\n",
        "\n",
        "  def __init__(self, room_name:str):\n",
        "    self.room_name = room_name\n",
        "    self.locked = True\n",
        "    self.ppl_inside = 0\n",
        "\n",
        "  def __enter__(self, enters = 1):\n",
        "    \"Auto unlocks when entering 'with' block\"\n",
        "    print(f\"🔓 Unlocking {self.room_name} door...\")\n",
        "    self.locked = False\n",
        "    self.ppl_inside += enters\n",
        "    print(f\"🚪 Entered {self.room_name}. People inside: {self.ppl_inside}\")\n",
        "    return self\n",
        "\n",
        "  def __exit__(self, exc_type, exc_value, traceback, exits = 1):\n",
        "    \"\"\"Auto locks when exiting 'with' block \"\"\"\n",
        "    self.ppl_inside -= exits\n",
        "    print(f\"🚪 Leaving {self.room_name}. People inside: {self.ppl_inside}\")\n",
        "\n",
        "    if self.ppl_inside == 0:\n",
        "      self.locked = True\n",
        "      print(f\"🔒 Auto-locked {self.room_name} (no one inside)\")\n",
        "    elif exc_type:\n",
        "      print(f\"⚠️  Emergency exit from {self.room_name}!\")\n",
        "\n",
        "  def do_work(self, task:str):\n",
        "    \"\"\"Work you can do inside the room\"\"\"\n",
        "    if self.locked:\n",
        "      print(f\"❌ Cannot {task} - door is locked!\")\n",
        "    else:\n",
        "      print(f\"💼 Doing {task} in {self.room_name}\")\n",
        "\n",
        "\n",
        "\n",
        "# Function-based context manager\n",
        "@contextmanager\n",
        "def use_printer(printer_name: str):\n",
        "    \"\"\"Context manager for printer usage.\"\"\"\n",
        "    print(f\"🖨️  Connecting to {printer_name}...\")\n",
        "    printer_data = {\"name\": printer_name, \"jobs\": 0}\n",
        "\n",
        "    try:\n",
        "        yield printer_data\n",
        "    finally:\n",
        "        print(f\"🖨️  Disconnecting from {printer_name} ({printer_data['jobs']} jobs printed)\")\n",
        "\n"
      ],
      "metadata": {
        "id": "PdPVurM7g5d3"
      },
      "execution_count": 102,
      "outputs": []
    },
    {
      "cell_type": "code",
      "source": [
        "# Test context managers\n",
        "print(\"\\n🧪 Testing Context Managers:\")\n",
        "\n",
        "# Automatic door management\n",
        "with Smartdoor(\"Office\") as office:\n",
        "    office.do_work(\"coding\")\n",
        "    office.do_work(\"meeting\")"
      ],
      "metadata": {
        "colab": {
          "base_uri": "https://localhost:8080/"
        },
        "id": "H1k7-cvXiFKL",
        "outputId": "a5d58c5a-a815-41bc-d257-23f3422d660e"
      },
      "execution_count": 103,
      "outputs": [
        {
          "output_type": "stream",
          "name": "stdout",
          "text": [
            "\n",
            "🧪 Testing Context Managers:\n",
            "🔓 Unlocking Office door...\n",
            "🚪 Entered Office. People inside: 1\n",
            "💼 Doing coding in Office\n",
            "💼 Doing meeting in Office\n",
            "🚪 Leaving Office. People inside: 0\n",
            "🔒 Auto-locked Office (no one inside)\n"
          ]
        }
      ]
    },
    {
      "cell_type": "code",
      "source": [
        "print(\"\\n--- Printer context manager ---\")\n",
        "with use_printer(\"HP LaserJet\") as printer:\n",
        "    printer[\"jobs\"] += 1\n",
        "    print(f\"📄 Printed document 1\")\n",
        "    printer[\"jobs\"] += 1\n",
        "    print(f\"📄 Printed document 2\")\n",
        "# Printer automatically disconnects here"
      ],
      "metadata": {
        "colab": {
          "base_uri": "https://localhost:8080/"
        },
        "id": "R0DpijM-t73u",
        "outputId": "72250d57-5e69-4ffe-f3f3-cf913c2a40d8"
      },
      "execution_count": 104,
      "outputs": [
        {
          "output_type": "stream",
          "name": "stdout",
          "text": [
            "\n",
            "--- Printer context manager ---\n",
            "🖨️  Connecting to HP LaserJet...\n",
            "📄 Printed document 1\n",
            "📄 Printed document 2\n",
            "🖨️  Disconnecting from HP LaserJet (2 jobs printed)\n"
          ]
        }
      ]
    },
    {
      "cell_type": "code",
      "source": [
        "print(\"Key takeaways:\")\n",
        "print(\"1. Classes = Blueprints for creating objects\")\n",
        "print(\"2. Inheritance = Child gets parent's abilities\")\n",
        "print(\"3. Abstract = Rules everyone must follow\")\n",
        "print(\"4. Multiple Inheritance = Combine different abilities\")\n",
        "print(\"5. Class Methods = Factory functions\")\n",
        "print(\"6. Static Methods = Utility functions\")\n",
        "print(\"7. Properties = Smart attributes with logic\")\n",
        "print(\"8. Context Managers = Automatic setup/cleanup\")"
      ],
      "metadata": {
        "colab": {
          "base_uri": "https://localhost:8080/"
        },
        "id": "yNGw9jvMuicr",
        "outputId": "56503137-bd3b-4089-b677-0fde4e8cfc63"
      },
      "execution_count": 105,
      "outputs": [
        {
          "output_type": "stream",
          "name": "stdout",
          "text": [
            "Key takeaways:\n",
            "1. Classes = Blueprints for creating objects\n",
            "2. Inheritance = Child gets parent's abilities\n",
            "3. Abstract = Rules everyone must follow\n",
            "4. Multiple Inheritance = Combine different abilities\n",
            "5. Class Methods = Factory functions\n",
            "6. Static Methods = Utility functions\n",
            "7. Properties = Smart attributes with logic\n",
            "8. Context Managers = Automatic setup/cleanup\n"
          ]
        }
      ]
    },
    {
      "cell_type": "code",
      "source": [],
      "metadata": {
        "id": "KOAZ-bZeuuks"
      },
      "execution_count": null,
      "outputs": []
    }
  ]
}